{
 "cells": [
  {
   "cell_type": "code",
   "execution_count": 61,
   "metadata": {},
   "outputs": [],
   "source": [
    "import imutils\n",
    "import cv2\n",
    "import numpy as np"
   ]
  },
  {
   "cell_type": "code",
   "execution_count": 62,
   "metadata": {},
   "outputs": [],
   "source": [
    "FRAMES_TO_PERSIST = 10\n",
    "MIN_SIZE_FOR_MOVEMENT = 2000\n",
    "MOVEMENT_DETECTED_PERSISTENCE = 100"
   ]
  },
  {
   "cell_type": "code",
   "execution_count": 63,
   "metadata": {},
   "outputs": [],
   "source": [
    "cap = cv2.VideoCapture(5) # Flush the stream\n",
    "cap.release()\n",
    "cap = cv2.VideoCapture(0) # Then start the webcam"
   ]
  },
  {
   "cell_type": "code",
   "execution_count": 64,
   "metadata": {},
   "outputs": [],
   "source": [
    "first_frame = None\n",
    "next_frame = None"
   ]
  },
  {
   "cell_type": "code",
   "execution_count": 65,
   "metadata": {},
   "outputs": [],
   "source": [
    "font = cv2.FONT_HERSHEY_SIMPLEX\n",
    "delay_counter = 0\n",
    "movement_persistent_counter = 0"
   ]
  },
  {
   "cell_type": "code",
   "execution_count": 66,
   "metadata": {},
   "outputs": [],
   "source": [
    "# LOOP!\n",
    "while True:\n",
    "\n",
    "    # Set transient motion detected as false\n",
    "    transient_movement_flag = False\n",
    "    \n",
    "    # Read frame\n",
    "    ret, frame = cap.read()\n",
    "    text = \"Unoccupied\"\n",
    "\n",
    "    # If there's an error in capturing\n",
    "    if not ret:\n",
    "        print(\"CAPTURE ERROR\")\n",
    "        continue\n",
    "\n",
    "    # Resize and save a greyscale version of the image\n",
    "    frame = imutils.resize(frame, width = 720)\n",
    "    gray = cv2.cvtColor(frame, cv2.COLOR_BGR2GRAY)\n",
    "\n",
    "    # Blur it to remove camera noise (reducing false positives)\n",
    "    gray = cv2.GaussianBlur(gray, (21, 21), 0)\n",
    "\n",
    "    # If the first frame is nothing, initialise it\n",
    "    if first_frame is None: first_frame = gray    \n",
    "\n",
    "    delay_counter += 1\n",
    "\n",
    "    # Otherwise, set the first frame to compare as the previous frame\n",
    "    # But only if the counter reaches the appriopriate value\n",
    "    # The delay is to allow relatively slow motions to be counted as large\n",
    "    # motions if they're spread out far enough\n",
    "    if delay_counter > FRAMES_TO_PERSIST:\n",
    "        delay_counter = 0\n",
    "        first_frame = next_frame\n",
    "\n",
    "        \n",
    "    # Set the next frame to compare (the current frame)\n",
    "    next_frame = gray\n",
    "\n",
    "    # Compare the two frames, find the difference\n",
    "    frame_delta = cv2.absdiff(first_frame, next_frame)\n",
    "    thresh = cv2.threshold(frame_delta, 25, 255, cv2.THRESH_BINARY)[1]\n",
    "\n",
    "    # Fill in holes via dilate(), and find contours of the thesholds\n",
    "    thresh = cv2.dilate(thresh, None, iterations = 2)\n",
    "    # print(thresh.copy())\n",
    "    # print(cv2.RETR_EXTERNAL)\n",
    "    # print(cv2.CHAIN_APPROX_SIMPLE)\n",
    "    cnts, _ = cv2.findContours(thresh.copy(), cv2.RETR_EXTERNAL, cv2.CHAIN_APPROX_SIMPLE)#_, \n",
    "\n",
    "    # loop over the contours\n",
    "    for c in cnts:\n",
    "\n",
    "        # Save the coordinates of all found contours\n",
    "        (x, y, w, h) = cv2.boundingRect(c)\n",
    "        \n",
    "        # If the contour is too small, ignore it, otherwise, there's transient\n",
    "        # movement\n",
    "        if cv2.contourArea(c) > MIN_SIZE_FOR_MOVEMENT:\n",
    "            transient_movement_flag = True\n",
    "            \n",
    "            # Draw a rectangle around big enough movements\n",
    "            cv2.rectangle(frame, (x, y), (x + w, y + h), (0, 255, 0), 2)\n",
    "\n",
    "    # The moment something moves momentarily, reset the persistent\n",
    "    # movement timer.\n",
    "    if transient_movement_flag == True:\n",
    "        movement_persistent_flag = True\n",
    "        movement_persistent_counter = MOVEMENT_DETECTED_PERSISTENCE\n",
    "\n",
    "    # As long as there was a recent transient movement, say a movement\n",
    "    # was detected    \n",
    "    if movement_persistent_counter > 0:\n",
    "        text = \"Movement Detected \" + str(movement_persistent_counter)\n",
    "        movement_persistent_counter -= 1\n",
    "    else:\n",
    "        text = \"No Movement Detected\"\n",
    "\n",
    "    # Print the text on the screen, and display the raw and processed video \n",
    "    # feeds\n",
    "    cv2.putText(frame, str(text), (10,35), font, 0.75, (255,255,255), 2, cv2.LINE_AA)\n",
    "    \n",
    "    # For if you want to show the individual video frames\n",
    "#    cv2.imshow(\"frame\", frame)\n",
    "#    cv2.imshow(\"delta\", frame_delta)\n",
    "    \n",
    "    # Convert the frame_delta to color for splicing\n",
    "    frame_delta = cv2.cvtColor(frame_delta, cv2.COLOR_GRAY2BGR)\n",
    "\n",
    "    # Splice the two video frames together to make one long horizontal one\n",
    "    cv2.imshow(\"frame\", np.hstack((frame_delta, frame)))\n",
    "\n",
    "\n",
    "    # Interrupt trigger by pressing q to quit the open CV program\n",
    "    ch = cv2.waitKey(1)\n",
    "    if ch & 0xFF == ord('q'):\n",
    "        break\n",
    "\n",
    "# Cleanup when closed\n",
    "cv2.waitKey(0)\n",
    "cv2.destroyAllWindows()\n",
    "cap.release()"
   ]
  },
  {
   "cell_type": "code",
   "execution_count": null,
   "metadata": {},
   "outputs": [],
   "source": []
  },
  {
   "cell_type": "code",
   "execution_count": null,
   "metadata": {},
   "outputs": [],
   "source": []
  },
  {
   "cell_type": "code",
   "execution_count": null,
   "metadata": {},
   "outputs": [],
   "source": []
  },
  {
   "cell_type": "code",
   "execution_count": null,
   "metadata": {},
   "outputs": [],
   "source": []
  },
  {
   "cell_type": "code",
   "execution_count": null,
   "metadata": {},
   "outputs": [],
   "source": []
  }
 ],
 "metadata": {
  "kernelspec": {
   "display_name": "Python 3.10.7 64-bit",
   "language": "python",
   "name": "python3"
  },
  "language_info": {
   "codemirror_mode": {
    "name": "ipython",
    "version": 3
   },
   "file_extension": ".py",
   "mimetype": "text/x-python",
   "name": "python",
   "nbconvert_exporter": "python",
   "pygments_lexer": "ipython3",
   "version": "3.10.7"
  },
  "orig_nbformat": 4,
  "vscode": {
   "interpreter": {
    "hash": "5b6070c83d296920fc65e9ae97ee64a9ffac525218e228a47c2d79cf3955b9fd"
   }
  }
 },
 "nbformat": 4,
 "nbformat_minor": 2
}
